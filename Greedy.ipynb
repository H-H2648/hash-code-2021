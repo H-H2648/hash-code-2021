{
 "cells": [
  {
   "cell_type": "code",
   "execution_count": 1,
   "metadata": {},
   "outputs": [],
   "source": [
    "def deliver(number, teams, pizzaLst, numPizza, numPizzaConst, taken):\n",
    "    deliveries = []\n",
    "    while teams > 0 and numPizza >= number:\n",
    "        ingredients = {}\n",
    "        delivery = []\n",
    "        for _ in range(number):\n",
    "            numIngredients = -1\n",
    "            index = 0\n",
    "            bestIndex = -1\n",
    "            while True:\n",
    "                if index == numPizzaConst:\n",
    "                    delivery.append(pizzaLst[bestIndex][0])\n",
    "                    taken[bestIndex] = None\n",
    "                    numIngredients = 0\n",
    "                    index = 0\n",
    "                    bestIindex = -1\n",
    "                    numPizza -=1\n",
    "                    break\n",
    "                if not(index in taken):\n",
    "                    curPizza = pizzaLst[index][1]\n",
    "                    if len(curPizza[1]) <= numIngredients:\n",
    "                        bestPizza = pizzaLst[bestIndex][1]\n",
    "                        for ingredient in bestPizza[1]:\n",
    "                            ingredients[ingredient] = None\n",
    "                        delivery.append(pizzaLst[bestIndex][0])\n",
    "                        taken[bestIndex] = None\n",
    "                        numIngredients=0\n",
    "                        index = 0\n",
    "                        bestIndex = -1\n",
    "                        numPizza -=1\n",
    "                        break\n",
    "                    else:\n",
    "                        pizza = pizzaLst[index][1]\n",
    "                        newIngredients = 0\n",
    "                        for ingredient in pizza[1]:\n",
    "                            if not(ingredient in ingredients):\n",
    "                                newIngredients +=1\n",
    "                        if newIngredients > numIngredients:\n",
    "                            numIngredients = newIngredients\n",
    "                            bestIndex = index\n",
    "                index +=1\n",
    "        deliveries.append(delivery)\n",
    "        teams -=1\n",
    "    return (deliveries, numPizza)\n",
    "        "
   ]
  },
  {
   "cell_type": "code",
   "execution_count": 2,
   "metadata": {},
   "outputs": [],
   "source": [
    "def solve(filename, outputname):\n",
    "    f = open(filename, \"r\")\n",
    "    basicInfo = f.readline()\n",
    "    basicInfoLst = basicInfo.split(' ')[:-1]\n",
    "    numPizzaConst = int(basicInfoLst[0])\n",
    "    numPizza = int(basicInfoLst[0])\n",
    "    team2 = int(basicInfoLst[1])\n",
    "    team3 = int(basicInfoLst[2])\n",
    "    team4 = int(basicInfoLst[3])\n",
    "    pizzas = []\n",
    "    for _ in range(int(numPizza)):\n",
    "        pizzaInfo = f.readline()[:-1]\n",
    "        pizzaInfoLst = pizzaInfo.split(' ')\n",
    "        pizzas.append((int(pizzaInfoLst[0]), pizzaInfoLst[1:]))\n",
    "    easierPizzas = sorted(enumerate(pizzas), key = lambda pizza: pizza[1][0], reverse=True)\n",
    "    taken = {}\n",
    "    (team4Deliveries, numPizza) = deliver(4, team4, easierPizzas, numPizza, numPizzaConst, taken)\n",
    "    (team3Deliveries, numPizza) = deliver(3, team3, easierPizzas, numPizza, numPizzaConst, taken)\n",
    "    (team2Deliveries, numPizza) = deliver(2, team2, easierPizzas, numPizza, numPizzaConst, taken)\n",
    "    f.close()\n",
    "    g = open(outputname, \"w\")\n",
    "    totalTeams = len(team4Deliveries)+ len(team3Deliveries) + len(team2Deliveries)\n",
    "    g.write(\"{0}\\n\".format(totalTeams))\n",
    "    for delivery in team4Deliveries:\n",
    "        g.write(\"4 {0} {1} {2} {3}\\n\".format(delivery[0], delivery[1], delivery[2], delivery[3]))\n",
    "    for delivery in team3Deliveries:\n",
    "        g.write(\"3 {0} {1} {2}\\n\".format(delivery[0], delivery[1], delivery[2]))\n",
    "    for delivery in team2Deliveries:\n",
    "        g.write(\"2 {0} {1}\\n\".format(delivery[0], delivery[1]))\n",
    "    g.close()\n",
    "    "
   ]
  },
  {
   "cell_type": "code",
   "execution_count": 3,
   "metadata": {},
   "outputs": [],
   "source": [
    "solve('a_example.in', 'a.out')"
   ]
  },
  {
   "cell_type": "code",
   "execution_count": 4,
   "metadata": {},
   "outputs": [],
   "source": [
    "solve('b_little_bit_of_everything.in', 'b.out')"
   ]
  },
  {
   "cell_type": "code",
   "execution_count": 5,
   "metadata": {},
   "outputs": [],
   "source": [
    "solve('c_many_ingredients.in', 'c.out')"
   ]
  },
  {
   "cell_type": "code",
   "execution_count": 6,
   "metadata": {},
   "outputs": [],
   "source": [
    "solve('d_many_pizzas.in', 'd.out')"
   ]
  },
  {
   "cell_type": "code",
   "execution_count": 7,
   "metadata": {},
   "outputs": [],
   "source": [
    "solve('e_many_teams.in', 'e.out')"
   ]
  },
  {
   "cell_type": "code",
   "execution_count": null,
   "metadata": {},
   "outputs": [],
   "source": []
  }
 ],
 "metadata": {
  "kernelspec": {
   "display_name": "Python 3",
   "language": "python",
   "name": "python3"
  },
  "language_info": {
   "codemirror_mode": {
    "name": "ipython",
    "version": 3
   },
   "file_extension": ".py",
   "mimetype": "text/x-python",
   "name": "python",
   "nbconvert_exporter": "python",
   "pygments_lexer": "ipython3",
   "version": "3.8.7"
  }
 },
 "nbformat": 4,
 "nbformat_minor": 4
}
